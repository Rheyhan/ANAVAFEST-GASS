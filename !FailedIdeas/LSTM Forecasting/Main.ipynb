{
 "cells": [
  {
   "cell_type": "markdown",
   "metadata": {},
   "source": [
    "## Modules"
   ]
  },
  {
   "cell_type": "code",
   "execution_count": 12,
   "metadata": {},
   "outputs": [],
   "source": [
    "import pandas as pd\n",
    "import numpy as np\n",
    "import matplotlib.pyplot as plt\n",
    "\n",
    "import tensorflow as tf\n",
    "from tensorflow import keras\n",
    "\n",
    "import os\n",
    "from tqdm import tqdm_notebook\n",
    "import sys\n",
    "\n",
    "from sklearn.model_selection import train_test_split"
   ]
  },
  {
   "cell_type": "code",
   "execution_count": 4,
   "metadata": {},
   "outputs": [
    {
     "name": "stdout",
     "output_type": "stream",
     "text": [
      "3.11.7 (tags/v3.11.7:fa7a6f2, Dec  4 2023, 19:24:49) [MSC v.1937 64 bit (AMD64)]\n"
     ]
    }
   ],
   "source": [
    "#Ran on python 3.11.7\n",
    "print(sys.version)"
   ]
  },
  {
   "cell_type": "markdown",
   "metadata": {},
   "source": [
    "## Data"
   ]
  },
  {
   "cell_type": "code",
   "execution_count": 16,
   "metadata": {},
   "outputs": [],
   "source": [
    "df=pd.read_csv(\"data/data_handling_spline.csv\")\n",
    "df.isna().sum()     #Check missing value (1)\n",
    "\n",
    "df[df[\"Open\"].isna()]       #Index 0 is missing\n",
    "\n",
    "#use back fill to fill index 0\n",
    "df[\"Open\"]=df[\"Open\"].fillna(method ='bfill')\n",
    "df.index=df[\"Date\"]\n",
    "df=df.pop(\"Open\")"
   ]
  },
  {
   "cell_type": "code",
   "execution_count": 17,
   "metadata": {},
   "outputs": [
    {
     "data": {
      "text/plain": [
       "Date\n",
       "2013-01-01    1820.000000\n",
       "2013-01-02    1820.000000\n",
       "2013-01-03    1830.000000\n",
       "2013-01-04    1840.000000\n",
       "2013-01-05    1830.010758\n",
       "                 ...     \n",
       "2023-12-28    9325.000000\n",
       "2023-12-29    9425.000000\n",
       "2023-12-30    9524.410311\n",
       "2023-12-31    9623.952671\n",
       "2024-01-01    9723.495030\n",
       "Name: Open, Length: 4018, dtype: float64"
      ]
     },
     "execution_count": 17,
     "metadata": {},
     "output_type": "execute_result"
    }
   ],
   "source": [
    "df"
   ]
  }
 ],
 "metadata": {
  "kernelspec": {
   "display_name": "Python 3",
   "language": "python",
   "name": "python3"
  },
  "language_info": {
   "codemirror_mode": {
    "name": "ipython",
    "version": 3
   },
   "file_extension": ".py",
   "mimetype": "text/x-python",
   "name": "python",
   "nbconvert_exporter": "python",
   "pygments_lexer": "ipython3",
   "version": "3.11.7"
  }
 },
 "nbformat": 4,
 "nbformat_minor": 2
}
