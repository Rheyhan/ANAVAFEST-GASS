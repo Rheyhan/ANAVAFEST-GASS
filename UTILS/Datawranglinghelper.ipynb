{
 "cells": [
  {
   "cell_type": "code",
   "execution_count": 6,
   "metadata": {},
   "outputs": [],
   "source": [
    "import pandas as pd\n",
    "import numpy as np\n",
    "import matplotlib.pyplot as plt\n",
    "\n",
    "\n",
    "import os\n",
    "import re"
   ]
  },
  {
   "cell_type": "code",
   "execution_count": 7,
   "metadata": {},
   "outputs": [
    {
     "data": {
      "text/plain": [
       "['Laju PDRB Menurut Provinsi.xlsx',\n",
       " 'Nilai Tambah (Harga Pasar) Menurut Provinsi, 2020-2022.xlsx',\n",
       " 'Persentase Penduduk Miskin Menurut Provinsi .xlsx',\n",
       " 'Produk Domestik Regional Bruto Atas Dasar Harga Berlaku\\xa0 Menurut Provinsi (Miliar rupiah), 2022.xlsx',\n",
       " 'Rata-Rata Lama Sekolah Penduduk Umur 15 Tahun ke Atas Menurut Provinsi, 2021-2023.xlsx',\n",
       " 'Rata-rata Pendapatan Bersih Berusaha Sendiri Menurut Provinsi dan Lapangan Pekerjaan Utama, 2022-2023.xlsx',\n",
       " 'Rata-rata Pengeluaran per Kapita Sebulan Makanan dan Bukan Makanan di Daerah Perkotaan dan Perdesaan Menurut Provinsi (rupiah), 2022.xlsx',\n",
       " 'Tingkat Pengangguran Terbuka (TPT) dan Tingkat Partisipasi Angkatan Kerja (TPAK) Menurut Provinsi, 2022.xlsx',\n",
       " 'UMP.txt',\n",
       " 'UMP.xlsx',\n",
       " 'Upah Rata - Rata Per Jam Pekerja Menurut Provinsi, 2021-2022.xlsx',\n",
       " '[Metode Baru] Indeks Pembangunan Manusia menurut Provinsi .xlsx',\n",
       " '~$UMP.xlsx']"
      ]
     },
     "execution_count": 7,
     "metadata": {},
     "output_type": "execute_result"
    }
   ],
   "source": [
    "#const\n",
    "path_rawdata=\"../DATA/RAW/\"\n",
    "\n",
    "datas=os.listdir(path_rawdata)\n",
    "datas"
   ]
  },
  {
   "cell_type": "code",
   "execution_count": null,
   "metadata": {},
   "outputs": [],
   "source": [
    "def checkextension(file):\n",
    "    path=path_rawdata+file\n",
    "    print(f'Reading: {file}')\n",
    "    if re.search(r'\\S+.xlsx', file, flags=re.IGNORECASE):\n",
    "        return pd.read_excel(path)\n",
    "    elif re.search(r'\\S+.csv', file, flags=re.IGNORECASE):\n",
    "        return pd.read_csv(path)"
   ]
  },
  {
   "cell_type": "code",
   "execution_count": 50,
   "metadata": {},
   "outputs": [],
   "source": [
    "#UMP\n",
    "\n",
    "data='''Nanggroe Aceh Darussalam (NAD)   3.166.460   3.413.666\n",
    "Sumatera Utara   2.522.609   2.710.493 \n",
    "Sumatera Barat   2.512.539   2.742.476  \n",
    "Riau   2.938.564   3.191.662\n",
    "Jambi   2.649.034   2.943.000\n",
    "Sumatera Selatan   3.144.446   3.404.177\n",
    "Bengkulu   2.238.094   2.418.280\n",
    "Lampung   2.440.486   2.633.284\n",
    "Bangka Belitung   3.264.884   3.498.479\n",
    "Kepulauan Riau   3.050.172   3.279.194\n",
    "DKI Jakarta   4.641.854   4.901.798 \n",
    "Banten   2.501.203   2.661.280\n",
    "Jawa Barat   1.841.487   1.986.670,17\n",
    "Jawa Tengah   1.812.935   1.958.169\n",
    "DI Yogyakarta   1.840.915   1.981.782 \n",
    "Jawa Timur   1.891.567   2.040.244\n",
    "Bali   2.516.971   2.713.672\n",
    "Nusa Tenggara Barat   2.207.212   2.371.407\n",
    "Nusa Tenggara Timur   1.975.000   2.123.994\n",
    "Kalimantan Barat   2.434.328   2.608.601,75\n",
    "Kalimantan Tengah   2.922.516   3.181.013\n",
    "Kalimantan Selatan   2.906.473   3.149.977\n",
    "Kalimantan Timur   3.014.497   3.201.396\n",
    "Kalimantan Utara   3.016.738   3.251.702,67\n",
    "Sulawesi Utara   3.310.723   3.485.000\n",
    "Sulawesi Tengah   2.390.739   2.599.546\n",
    "Sulawesi Selatan   3.165.876   3.385.145\n",
    "Sulawesi Tenggara   2.576.016   2.758.948\n",
    "Gorontalo   2.800.580   2.989.350\n",
    "Sulawesi Barat   2.678.863   2.871.794\n",
    "Maluku   2.619.312   2.812.827\n",
    "Maluku Utara   2.862.231   2.976.720\n",
    "Papua Barat   3.200.000   3.282.000\n",
    "Papua   3.561.932   3.864.696'''\n",
    "temp=re.split(r'\\n+', data)\n",
    "\n",
    "thelist=[]\n",
    "for i in temp:\n",
    "    idk2022, idk2023= re.findall(r'[\\d.,]+', i)\n",
    "    idk2022=idk2022.replace(\".\", \"\").replace(\",\", \".\")\n",
    "    idk2023=idk2023.replace(\".\", \"\").replace(\",\", \".\")\n",
    "    thelist.append([re.search(r'[A-Za-z() ]+[^\\d]', i)[0].strip(\" \"), idk2022, idk2023])"
   ]
  },
  {
   "cell_type": "code",
   "execution_count": 52,
   "metadata": {},
   "outputs": [],
   "source": [
    "pd.DataFrame(thelist, columns=[\"Provinsi\", \"2022\", \"2023\"]).to_excel(path_rawdata+\"UMP.xlsx\", index=False)"
   ]
  }
 ],
 "metadata": {
  "kernelspec": {
   "display_name": "Python 3",
   "language": "python",
   "name": "python3"
  },
  "language_info": {
   "codemirror_mode": {
    "name": "ipython",
    "version": 3
   },
   "file_extension": ".py",
   "mimetype": "text/x-python",
   "name": "python",
   "nbconvert_exporter": "python",
   "pygments_lexer": "ipython3",
   "version": "3.11.7"
  }
 },
 "nbformat": 4,
 "nbformat_minor": 2
}
